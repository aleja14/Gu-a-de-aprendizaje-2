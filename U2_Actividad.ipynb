{
 "cells": [
  {
   "cell_type": "code",
   "execution_count": null,
   "metadata": {
    "cell_id": "00000-67df78f8-de37-4619-890b-76c56e14a5ea",
    "deepnote_cell_type": "code",
    "deepnote_to_be_reexecuted": false,
    "execution_millis": 1277,
    "execution_start": 1637012208420,
    "source_hash": "e1821f0a",
    "tags": []
   },
   "outputs": [],
   "source": [
    "# importando las librerías requeridas\n",
    "import pandas as pd\n",
    "import matplotlib.pyplot as plt\n",
    "import seaborn as sns\n",
    "from statsmodels.tsa.stattools import adfuller\n",
    "import numpy as np\n",
    "import datetime\n",
    "import scipy as sp\n",
    "from scipy.fft import fft, fftfreq "
   ]
  },
  {
   "cell_type": "markdown",
   "metadata": {
    "cell_id": "00001-3bbc5544-dc50-4aae-a20f-a6cac386629c",
    "deepnote_cell_type": "markdown",
    "tags": []
   },
   "source": [
    "# Unidad 2: Actividad Individual\n",
    "Con el desarrollo de esta actividad podrá medir el nivel de apropiación de los temas de la Unidad 2. Es muy importante que siga las instrucciones dadas en cada uno de los ejercicios. En particular, elimine las partes del código que contienen la siguiente frase una vez haya implementado su solución:\n",
    "\n",
    "`raise NotImplementedError() # Remueva esta línea cuando implemente su solución.\n",
    "\n",
    "Una vez haya implementado y probado todas las soluciones, debe subir este notebook a la actividad correspondiente en nuestra Aula Virtual."
   ]
  },
  {
   "cell_type": "markdown",
   "metadata": {
    "cell_id": "00002-566f3808-3aa9-47dd-9603-f15779607215",
    "deepnote_cell_type": "markdown",
    "tags": []
   },
   "source": [
    "## Caso 3"
   ]
  },
  {
   "cell_type": "markdown",
   "metadata": {
    "cell_id": "00003-f260ac7a-0afa-4735-98ee-721fa1582e73",
    "deepnote_cell_type": "markdown",
    "tags": []
   },
   "source": [
    "Para iniciar esta actividad inicial vamos a cargar la base de datos del histórico de temperaturas y anomalías en la temperatura del oceáno pacífico y la llamaremos `hist_temp`"
   ]
  },
  {
   "cell_type": "code",
   "execution_count": null,
   "metadata": {
    "cell_id": "00004-c0637ac7-2f14-4a3d-87fd-27919ca384c0",
    "deepnote_cell_type": "code",
    "deepnote_to_be_reexecuted": false,
    "execution_millis": 254,
    "execution_start": 1637012209701,
    "source_hash": "bc484608",
    "tags": []
   },
   "outputs": [],
   "source": [
    "hist_temp = pd.read_excel('data/Hist_Temp_Pacifico.xlsx')\n",
    "hist_temp.head()"
   ]
  },
  {
   "cell_type": "markdown",
   "metadata": {
    "cell_id": "00005-0e549ede-b198-4293-9dc1-9292d2d73cec",
    "deepnote_cell_type": "markdown",
    "tags": []
   },
   "source": [
    "Tras revisar los contenidos, encontramos una serie de tiempo en la que las dos primeras columnas son enteros representando el año y el mes. Posteriormente aparecen la tempertura promedio de la superficie, y la anomalía con respecto al promedio, en diferentes regiones del pacífico, definidas como se muestra en la Figura siguiente.\n",
    "\n",
    "![Picture title](fig/image-20211115-142848.png)\n",
    "Figura tomada de National Centers for Environmental Information. https://www.ncdc.noaa.gov/teleconnections/enso/sst "
   ]
  },
  {
   "cell_type": "markdown",
   "metadata": {
    "cell_id": "00006-a7122e0f-3ea0-498c-b1ea-e8650cda479f",
    "deepnote_cell_type": "markdown",
    "tags": []
   },
   "source": [
    "### Ejercicio 3.1\n",
    "\n",
    "Cree una nueva columna llamada `periodo` en el DataFrame `hist_temp` que contenga la información del periodo Mes-Año para cada una de las filas del DataFrame."
   ]
  },
  {
   "cell_type": "code",
   "execution_count": null,
   "metadata": {
    "cell_id": "00007-0c881648-6101-4166-898f-9acf5706c3b3",
    "deepnote_cell_type": "code",
    "deepnote_to_be_reexecuted": false,
    "execution_millis": 1,
    "execution_start": 1637012209957,
    "source_hash": "7dc68b",
    "tags": []
   },
   "outputs": [],
   "source": [
    "# INGRESE SU CÓDIGO AQUÍ\n",
    "raise NotImplementedError() # Remueva esta línea cuando implemente su solución"
   ]
  },
  {
   "cell_type": "markdown",
   "metadata": {
    "cell_id": "00006-42de1e41-66d9-4a99-b5ed-c4dea3d0f747",
    "deepnote_cell_type": "markdown",
    "tags": []
   },
   "source": [
    "### Ejercicio 3.2\n",
    "\n",
    "Grafique la serie de tiempo de las anomalías en temperatura para la región 3.4. Esta región es la de mauor relevancia a la hora de definir la ocurrencia o no de un fenómeno del niño"
   ]
  },
  {
   "cell_type": "code",
   "execution_count": null,
   "metadata": {
    "cell_id": "00004-34c9539b-526d-4365-b34a-71a908442127",
    "deepnote_cell_type": "code",
    "deepnote_to_be_reexecuted": false,
    "execution_millis": 49,
    "execution_start": 1637012209974,
    "output_cleared": true,
    "source_hash": "7dc68b",
    "tags": []
   },
   "outputs": [],
   "source": [
    "# INGRESE SU CÓDIGO AQUÍ\n",
    "raise NotImplementedError() # Remueva esta línea cuando implemente su solución"
   ]
  },
  {
   "cell_type": "markdown",
   "metadata": {
    "cell_id": "00012-9ee41166-d4c2-466d-9266-36f486c21f6b",
    "deepnote_cell_type": "markdown",
    "tags": []
   },
   "source": [
    "### Ejercicio 3.3\n",
    "Aplique el criterio de Dickey-Fuller para determinar si estadísticamente la serie de anomalías en la temperatura es una serie estacionaria, con un nivel de significancia del 95%. Al final, su código debe crear una nueva variable llamada `serie_estacionaria` que sea una lista en la que el primer elemento debe ser un booleano indicando si es verdadero o falso que la serie es estacionaria, y el segundo elemento es el valor-p que arroja el análisis de Dickey-Fuller."
   ]
  },
  {
   "cell_type": "code",
   "execution_count": null,
   "metadata": {
    "cell_id": "00013-e942e178-ba49-4a41-bd27-54351f272648",
    "deepnote_cell_type": "code",
    "deepnote_to_be_reexecuted": false,
    "execution_millis": 3,
    "execution_start": 1637012210332,
    "source_hash": "7dc68b",
    "tags": []
   },
   "outputs": [],
   "source": [
    "# INGRESE SU CÓDIGO AQUÍ\n",
    "raise NotImplementedError() # Remueva esta línea cuando implemente su solución"
   ]
  },
  {
   "cell_type": "markdown",
   "metadata": {
    "cell_id": "00015-2ec97aff-d682-4e51-b0c1-b4cb0433420d",
    "deepnote_cell_type": "markdown",
    "tags": []
   },
   "source": [
    "### Ejercicio 3.4\n",
    "Para este ejercicio, cargaremos los datos obtenidos en el caso con las variaciones de las precipitaciones mensuales en la región de Cundinamarca:"
   ]
  },
  {
   "cell_type": "code",
   "execution_count": null,
   "metadata": {
    "cell_id": "00016-33dfafbe-807b-4457-b7ba-729a227faf40",
    "deepnote_cell_type": "code",
    "deepnote_to_be_reexecuted": false,
    "execution_millis": 102,
    "execution_start": 1637012210359,
    "source_hash": "55ffaa34",
    "tags": []
   },
   "outputs": [],
   "source": [
    "prec_hist = pd.read_csv('data/cambios_precipitaciones.csv')\n",
    "prec_hist.head()"
   ]
  },
  {
   "cell_type": "markdown",
   "metadata": {
    "cell_id": "00017-02270df3-9043-4fd5-be1a-beb0c945dde4",
    "deepnote_cell_type": "markdown",
    "tags": []
   },
   "source": [
    "Infortunadamente, la información del periodo ha sido interpretada como un string. De manera que debemos reformatearla para que quede en formato de periodo mensual:"
   ]
  },
  {
   "cell_type": "code",
   "execution_count": null,
   "metadata": {
    "cell_id": "00018-2f9247c0-8ebc-4cb1-bdbe-ccc0d470c91a",
    "deepnote_cell_type": "code",
    "deepnote_to_be_reexecuted": false,
    "execution_millis": 6,
    "execution_start": 1637012210481,
    "source_hash": "64c76259",
    "tags": []
   },
   "outputs": [],
   "source": [
    "prec_hist['periodo'] = pd.to_datetime(prec_hist['periodo']).dt.to_period('M')\n",
    "prec_hist.head()"
   ]
  },
  {
   "cell_type": "markdown",
   "metadata": {
    "cell_id": "00017-8e30b5aa-ee23-4847-beb6-87f69d5f7d9e",
    "deepnote_cell_type": "markdown",
    "tags": []
   },
   "source": [
    "Use la función `merge` para agregar al dataframe `prec_hist` una nueva columna con el valor de la anomalía en temperatura de la región 3.4 del Oceano Pacífico"
   ]
  },
  {
   "cell_type": "code",
   "execution_count": null,
   "metadata": {
    "cell_id": "00017-ce474fa7-c0ce-46fc-a7fd-ffe6b4e84d94",
    "deepnote_cell_type": "code",
    "deepnote_to_be_reexecuted": false,
    "execution_millis": 2,
    "execution_start": 1637012210489,
    "source_hash": "7dc68b",
    "tags": []
   },
   "outputs": [],
   "source": [
    "# INGRESE SU CÓDIGO AQUÍ\n",
    "raise NotImplementedError() # Remueva esta línea cuando implemente su solución"
   ]
  },
  {
   "cell_type": "markdown",
   "metadata": {
    "cell_id": "00022-e5fefa2e-6294-48fc-ab4a-389e3375b9b9",
    "deepnote_cell_type": "markdown",
    "tags": []
   },
   "source": [
    "### Ejercicio 3.5\n",
    "Calcule la correlación de Pearson entre las columnas `norm_diff` y `ANOM3.4` del DataFrame prec_hist y asigne este valor a la variable `corr_temp_prec`. Comente sobre el valor obtenido y qué se puede concluir del mismo.\n",
    "\n",
    "\n",
    "**Nota:** Es importante aquí anotar que la correlación se calculará por filas, por eso era necesario agregar la columna `ANOM3.4` al DataFrame `prec_hist`, la correlación se hará entonces entre datos correspondientes a las mismas fechas."
   ]
  },
  {
   "cell_type": "code",
   "execution_count": null,
   "metadata": {
    "cell_id": "00017-446c2638-a5c0-45ea-8d3a-d8387381b672",
    "deepnote_cell_type": "code",
    "deepnote_to_be_reexecuted": false,
    "execution_millis": 0,
    "execution_start": 1637012210536,
    "source_hash": "7dc68b",
    "tags": []
   },
   "outputs": [],
   "source": [
    "# INGRESE SU CÓDIGO AQUÍ\n",
    "raise NotImplementedError() # Remueva esta línea cuando implemente su solución"
   ]
  },
  {
   "cell_type": "markdown",
   "metadata": {
    "cell_id": "00005-4132a7a1-23cd-43fd-b79d-98d8cc6d0b84",
    "deepnote_cell_type": "markdown",
    "tags": []
   },
   "source": [
    "### Ejercicio 3.6\n",
    "Aplique la función `shift` sobre la columna `norm_diff` en un rango entre -6 y 6 y, de nuevo, calcule la correlación con la columna `ANOM3.4`. Deposite únicamente los valores obtenidos para la correlación en cada caso en la lista `corr_temp_prec_shift`. ¿Para qué valor del shift se observa la mayor correlación posible? ¿Qué signfica que la correlación sea negativa?\n"
   ]
  },
  {
   "cell_type": "code",
   "execution_count": null,
   "metadata": {
    "cell_id": "00026-f269e005-1550-42c3-b497-63146684ebb5",
    "deepnote_cell_type": "code",
    "deepnote_to_be_reexecuted": false,
    "execution_millis": 0,
    "execution_start": 1637012210537,
    "source_hash": "7dc68b",
    "tags": []
   },
   "outputs": [],
   "source": [
    "# INGRESE SU CÓDIGO AQUÍ\n",
    "raise NotImplementedError() # Remueva esta línea cuando implemente su solución"
   ]
  },
  {
   "cell_type": "markdown",
   "metadata": {
    "cell_id": "00028-3fba86a3-71e2-4e37-93c4-a542dd8ffca2",
    "deepnote_cell_type": "markdown",
    "tags": []
   },
   "source": [
    "### Ejercicio 3.7\n",
    "\n",
    "Escriba un breve párrafo a continuación en el que plasme las conclusiones principales a las que puede llegar con respecto a la relación existente entre las temperaturas del océano pacífico y los niveles de precipitación en la región de Cundinamarca y Boyacá."
   ]
  },
  {
   "cell_type": "markdown",
   "metadata": {
    "cell_id": "00029-0377a834-c244-4b0e-af01-3e43308f4608",
    "deepnote_cell_type": "markdown",
    "tags": []
   },
   "source": [
    "**Respuesta:**"
   ]
  },
  {
   "cell_type": "markdown",
   "metadata": {
    "cell_id": "00030-cd900976-aa33-4719-a757-3c7db241e336",
    "deepnote_cell_type": "markdown",
    "tags": []
   },
   "source": [
    "## Caso 4\n",
    "\n",
    "Para realizar la actividad del Caso 4 debemos primero descargar de nuevo la base de datos completa de precipitaciones históricas:"
   ]
  },
  {
   "cell_type": "code",
   "execution_count": null,
   "metadata": {
    "cell_id": "00031-14a3ce04-f26d-49dd-9619-a498d808cf50",
    "deepnote_cell_type": "code",
    "deepnote_to_be_reexecuted": false,
    "execution_millis": 140,
    "execution_start": 1637012644992,
    "source_hash": "f9b5d1cc",
    "tags": []
   },
   "outputs": [],
   "source": [
    "prec = pd.read_csv('data/precipitaciones_historicas_long.csv')\n",
    "prec.head()"
   ]
  },
  {
   "cell_type": "markdown",
   "metadata": {
    "cell_id": "00032-2b2ec5d6-5333-421f-b2b3-0bae0d5f1920",
    "deepnote_cell_type": "markdown",
    "tags": []
   },
   "source": [
    "Esta base de datos ya tiene los cambios hechos durante el caso, se ha pasado a formato largo, los meses se especifican numéricamente y también la información año-mes en la columna `periodo`. Sin embargo, al igual que en el caso anterior, la columna `periodo` ha sido interpretada como una string y debemos cambiar su formato:"
   ]
  },
  {
   "cell_type": "code",
   "execution_count": null,
   "metadata": {
    "cell_id": "00033-47244c11-ac32-490a-ac70-bd9efbda1214",
    "deepnote_cell_type": "code",
    "deepnote_to_be_reexecuted": false,
    "execution_millis": 52,
    "execution_start": 1637012646178,
    "source_hash": "451d9ce7",
    "tags": []
   },
   "outputs": [],
   "source": [
    "prec['periodo'] = pd.to_datetime(prec['periodo']).dt.to_period('M')\n",
    "prec.head()"
   ]
  },
  {
   "cell_type": "markdown",
   "metadata": {
    "cell_id": "00034-8fe363a5-c4ca-460a-9830-ca92a5ed00fb",
    "deepnote_cell_type": "markdown",
    "tags": []
   },
   "source": [
    "El objetivo de esta actividad será la de tratar de pulir un el resultado obtenido durante el caso limitando el análisis a las estaciones hidrológicas que tienen datos registrados, al menos, desde el Primero de Enero de 1980."
   ]
  },
  {
   "cell_type": "markdown",
   "metadata": {
    "cell_id": "00035-8e18066f-fbef-4355-800e-1fb0af88f31b",
    "deepnote_cell_type": "markdown",
    "tags": []
   },
   "source": [
    "### Ejercicio 4.1\n",
    "\n",
    "Cree una nueva base de datos llamada `prec_80s` en la que sólo aparezcan los datos de precipitación obtenidos a partir del año 1980."
   ]
  },
  {
   "cell_type": "code",
   "execution_count": null,
   "metadata": {
    "cell_id": "00036-ce4c03ac-8d0b-421e-baab-bec239f33ce1",
    "deepnote_cell_type": "code",
    "tags": []
   },
   "outputs": [],
   "source": [
    "# INGRESE SU CÓDIGO AQUÍ\n",
    "raise NotImplementedError() # Remueva esta línea cuando implemente su solución"
   ]
  },
  {
   "cell_type": "markdown",
   "metadata": {
    "cell_id": "00038-e4a3985f-2ad8-44f6-badb-3e2492d334ab",
    "deepnote_cell_type": "markdown",
    "tags": []
   },
   "source": [
    "### Ejercicio 4.2\n",
    "\n",
    "Escriba el código requerido para crear una lista en la que aparezcan únicamente las estaciones hidrológicas que aparezcan al menos 420 veces en la base de datos `prec_80s`. Estas son las estaciones con información de al menos 35 años (35 = 420/12) en los últimos 40 años de registros. Esta lista se debe llamar `estaciones_importantes`.\n",
    "\n",
    "**Pista:** Arranque aplicando un `groupby` sobre el DataFrame `prec_80s` usando la función `count` como función de agregación. Posteriormente puede aplicar una máscara sobre el DataFrame resultante para quedarse sólo con las estaciones más importantes."
   ]
  },
  {
   "cell_type": "code",
   "execution_count": null,
   "metadata": {
    "cell_id": "00038-c5c5f1bf-49cc-490b-82b5-5f8170dee1cd",
    "deepnote_cell_type": "code",
    "tags": []
   },
   "outputs": [],
   "source": [
    "# INGRESE SU CÓDIGO AQUÍ\n",
    "raise NotImplementedError() # Remueva esta línea cuando implemente su solución"
   ]
  },
  {
   "cell_type": "markdown",
   "metadata": {
    "cell_id": "00041-2c2e991d-557d-46a7-8c6f-b115c35fb0b9",
    "deepnote_cell_type": "markdown",
    "tags": []
   },
   "source": [
    "### Ejercicio 4.3\n",
    "Cree un nuevo DataFrame llamado `prec_filtradas` en el que sólo aparezcan los datos a partir de 1980 y para únicamente las estaciones que hacen parte de la lista `estaciones_importantes`.\n",
    "\n",
    "**Pista:** Para verificar la pertenencia a un conjunto a lo largo de los elementos de una columna, Pandas ofrece la función `.isin(lista)` que arroja una serie de booleanos `True` or `False` dependiendo de si los elementos de la columna están o no en la lista dada."
   ]
  },
  {
   "cell_type": "code",
   "execution_count": null,
   "metadata": {
    "cell_id": "00042-b207b5a0-1a29-41ab-a4f4-68adff9eb8e0",
    "deepnote_cell_type": "code",
    "tags": []
   },
   "outputs": [],
   "source": [
    "# INGRESE SU CÓDIGO AQUÍ\n",
    "raise NotImplementedError() # Remueva esta línea cuando implemente su solución"
   ]
  },
  {
   "cell_type": "markdown",
   "metadata": {
    "cell_id": "00044-1e0e3b5d-9650-48e2-a643-55569cfd5b2f",
    "deepnote_cell_type": "markdown",
    "tags": []
   },
   "source": [
    "### Ejercicio 4.4\n",
    "Repita el análisis realizado durante el caso para la base de datos `prec_filtradas`. Es decir, realice las siguientes operaciones:\n",
    "\n",
    "- Cree la columna `prec_trans` con la raíz cuadrada de las precipitaciones.\n",
    "- Calcule el promedio y la desviación estándar de las precipitaciones transformadas para cada estación y cada mes del año.\n",
    "- Incluya columnas adicionales en `prec_filtradas` con la información de las precipitaciones promedio por estación y por año y su desviación estándar.\n",
    "- Cree la columna `norm_diff` y asigne a la misma el valor de la diferencia entre las precipitaciones transformadas y el promedio esperado para esa estación en el mes respectivo. La diferencia debe ser normalizada por la desviación estándar."
   ]
  },
  {
   "cell_type": "code",
   "execution_count": null,
   "metadata": {
    "cell_id": "00044-1d0d6cc0-d615-40b8-b5d0-36fa369b6e0a",
    "deepnote_cell_type": "code",
    "deepnote_to_be_reexecuted": false,
    "execution_millis": 1,
    "execution_start": 1637014652818,
    "source_hash": "7dc68b",
    "tags": []
   },
   "outputs": [],
   "source": [
    "# INGRESE SU CÓDIGO AQUÍ\n",
    "raise NotImplementedError() # Remueva esta línea cuando implemente su solución"
   ]
  },
  {
   "cell_type": "markdown",
   "metadata": {
    "cell_id": "00047-e57d30fb-2b83-41f2-b7c4-ae0722749889",
    "deepnote_cell_type": "markdown",
    "tags": []
   },
   "source": [
    "### Ejercicio 4.5\n",
    "Use la función `groupby` sobre el DataFrame `prec_filtradas` para calcular la diferencia normalizada promedio para cada mes desde 1980. Asegúrese de usar `reset_index` para que el `periodo` siga siendo una columna. Llame `prec_diff` al DataFrame resultante."
   ]
  },
  {
   "cell_type": "code",
   "execution_count": null,
   "metadata": {
    "cell_id": "00048-a8e65992-b859-4591-9595-67b1854e9707",
    "deepnote_cell_type": "code",
    "tags": []
   },
   "outputs": [],
   "source": [
    "# INGRESE SU CÓDIGO AQUÍ\n",
    "raise NotImplementedError() # Remueva esta línea cuando implemente su solución"
   ]
  },
  {
   "cell_type": "markdown",
   "metadata": {
    "cell_id": "00050-13e24093-548a-461b-a6f1-a7b3c3d5410d",
    "deepnote_cell_type": "markdown",
    "tags": []
   },
   "source": [
    "### Ejercicio 4.6\n",
    "Cree una columna llamanda `norm_diff_prom` en `prec_diff` que contenga el promedio movil de `norm_diff` usando una ventana de 6 meses. "
   ]
  },
  {
   "cell_type": "code",
   "execution_count": null,
   "metadata": {
    "cell_id": "00051-f98bd43b-ebfb-4bf7-a0dd-c5281c4bb1e0",
    "deepnote_cell_type": "code",
    "deepnote_to_be_reexecuted": false,
    "execution_millis": 1,
    "execution_start": 1637015696599,
    "source_hash": "7dc68b",
    "tags": []
   },
   "outputs": [],
   "source": [
    "# INGRESE SU CÓDIGO AQUÍ\n",
    "raise NotImplementedError() # Remueva esta línea cuando implemente su solución"
   ]
  },
  {
   "cell_type": "markdown",
   "metadata": {
    "cell_id": "00053-45b88d8a-5cd5-4a29-9571-3431c1004fb8",
    "deepnote_cell_type": "markdown",
    "tags": []
   },
   "source": [
    "### Ejercicio 4.7\n",
    "Grafique la evolución temporal del promedio de diferencias de precipitaciones, columna `norm_diff`, y de su promedio mòvil, columna `norm_diff_prom`, en el DataFrame `prec_diff`."
   ]
  },
  {
   "cell_type": "code",
   "execution_count": null,
   "metadata": {
    "cell_id": "00053-16d71108-b1ba-4eab-82e0-77b22fbc20f4",
    "deepnote_cell_type": "code",
    "tags": []
   },
   "outputs": [],
   "source": [
    "# INGRESE SU CÓDIGO AQUÍ\n",
    "raise NotImplementedError() # Remueva esta línea cuando implemente su solución"
   ]
  },
  {
   "cell_type": "markdown",
   "metadata": {
    "cell_id": "00056-f5f0e267-f873-454f-b4cf-756f7b6416a0",
    "deepnote_cell_type": "markdown",
    "tags": []
   },
   "source": [
    "### Ejercicio 4.8\n",
    "Comente en un pequeño párrafo sus observaciones acerca del efecto de haber filtrado nuestra base de datos usando únicamante los datos de las estaciones activas durante los últimos 40 años."
   ]
  },
  {
   "cell_type": "markdown",
   "metadata": {
    "cell_id": "00057-e9197401-01dd-4bd4-a17d-a9ac191956c8",
    "deepnote_cell_type": "markdown",
    "tags": []
   },
   "source": [
    "**Respuesta:**"
   ]
  },
  {
   "cell_type": "markdown",
   "metadata": {
    "cell_id": "00045-ca9928dc-a4e8-45fd-937a-8aba92d076db",
    "deepnote_cell_type": "markdown",
    "tags": []
   },
   "source": [
    "### Verificando las respuestas\n",
    "No modifique las celdas siguientes, sólo ejecútelas para conocer si las soluciones propuestas cumplen con los estándares requeridos. Asegúrese de haber corrido todo el notebook antes de correr las celdas de verificación.\n",
    "\n",
    "Esta es sólo una validación preliminar, todas sus soluciones serán sometidas a pruebas adicionales para dar una puntuación."
   ]
  },
  {
   "cell_type": "code",
   "execution_count": null,
   "metadata": {
    "cell_id": "00046-ba6743a9-8613-4993-b8c0-ae98ce5a89a5",
    "deepnote_cell_type": "code",
    "deepnote_to_be_reexecuted": false,
    "execution_millis": 5,
    "execution_start": 1637012210549,
    "source_hash": "f4818c13",
    "tags": []
   },
   "outputs": [],
   "source": [
    "# Ejercicio 3.1\n",
    "assert \"periodo\" in hist_temp.columns, \"Ej. 3.1 - No definió una columna adicional llamada periodo\"\n",
    "assert hist_temp['periodo'].dtype == \"period[M]\", \"Ej. 3.1 - Los contenidos de la columna periodo no están definidos en formato de periodo mensual\"\n",
    "print(\"¡El Ejercicio 3.1 luce bien!\")"
   ]
  },
  {
   "cell_type": "code",
   "execution_count": null,
   "metadata": {
    "cell_id": "00047-ede75a2d-d1f6-495a-8aa1-9f1234949803",
    "deepnote_cell_type": "code",
    "deepnote_to_be_reexecuted": false,
    "execution_millis": 5,
    "execution_start": 1637012210555,
    "source_hash": "463cbde",
    "tags": []
   },
   "outputs": [],
   "source": [
    "# Ejercicio 3.3\n",
    "assert \"serie_estacionaria\" in globals(), \"Ej. 3.3 - No definió una variable llamada serie_estacionaria\"\n",
    "assert type(serie_estacionaria) == type([]), \"Ej. 3.3 - La variable serie_estacionaria no está definida como una lista\"\n",
    "assert len(serie_estacionaria) ==2, \"Ej. 3.3 - La variable serie_estacionaria no tiene exactamente 2 elementos\"\n",
    "assert serie_estacionaria[0] == True, \"Ej. 3.3 - Hay un fallo con la aplicación del método Dickey-Fuller, ya que a serie eto es estacionaria\"\n",
    "assert np.abs(serie_estacionaria[1]-1.32e-8) < 0.01e-8, \"Ej. 3.3 - Hay un fallo con la aplicación del método Dickey-Fuller, el p-valor tiene un valor diferente al esperado\"\n",
    "print(\"¡El Ejercicio 3.3 luce bien!\")"
   ]
  },
  {
   "cell_type": "code",
   "execution_count": null,
   "metadata": {
    "cell_id": "00048-644efcde-65c6-4d3e-a95e-a3a3ffd37b1b",
    "deepnote_cell_type": "code",
    "deepnote_to_be_reexecuted": false,
    "execution_millis": 6,
    "execution_start": 1637012210562,
    "source_hash": "5cd4fd94",
    "tags": []
   },
   "outputs": [],
   "source": [
    "# Ejercicio 3.4\n",
    "assert \"ANOM3.4\" in prec_hist.columns, \"Ej. 3.4 - No hay una columna llamada ANOM3.4 en el DataFrame prec_hist\"\n",
    "assert prec_hist['ANOM3.4'].sum() == 24.33, \"Ej. 3.4 hay un problema con los valores en la columna ANOM3.4 del DataFrame prec_hist\"\n",
    "assert len(prec_hist['ANOM3.4'])==1092, \"Ej. 3.4 - Después de hacer el merge, el DataFrame prec_hist ya no tiene las 1092 filas originales\"\n",
    "print(\"¡El Ejercicio 3.4 luce bien!\")"
   ]
  },
  {
   "cell_type": "code",
   "execution_count": null,
   "metadata": {
    "cell_id": "00049-fba95e7a-e5cb-4fbc-98cc-660eb50b6113",
    "deepnote_cell_type": "code",
    "deepnote_to_be_reexecuted": false,
    "execution_millis": 3,
    "execution_start": 1637012210571,
    "source_hash": "123e25f0",
    "tags": []
   },
   "outputs": [],
   "source": [
    "# Ejercicio 3.5\n",
    "assert \"corr_temp_prec\" in globals(), \"Ej. 3.5 - No definió una variable llamada corr_temp_prec\"\n",
    "assert np.abs(corr_temp_prec + 0.356) < 0.001  , \"Ej. 3.5 hay un problema con los valores de la correlación \"\n",
    "print(\"¡El Ejercicio 3.5 luce bien!\")"
   ]
  },
  {
   "cell_type": "code",
   "execution_count": null,
   "metadata": {
    "cell_id": "00072-0a4e6575-d438-497c-a236-1c099fc61f06",
    "deepnote_cell_type": "code",
    "deepnote_to_be_reexecuted": false,
    "execution_millis": 5,
    "execution_start": 1637012210581,
    "source_hash": "10128b82",
    "tags": []
   },
   "outputs": [],
   "source": [
    "# Ejercicio 3.6\n",
    "assert \"corr_temp_prec_shift\" in globals(), \"Ej. 3.6 - No definió una variable llamada corr_temp_prec_shift\"\n",
    "assert len(corr_temp_prec_shift) == 13  , \"Ej. 3.6 - La lista corr_temp_prec_shift debe tener trece elementos correspondientes a shifts de entre -6 y 6 meses, incluyendo el 0\"\n",
    "assert np.abs(np.min(corr_temp_prec_shift)+0.361) <= 0.001, \"Ej. 3.6 - Hay un problema con el cálculo de la correlación, ya que el valor máximo de correlación no es el esperado\"\n",
    "assert np.argmin(corr_temp_prec_shift) == 5, \"Ej. 3.6 - el valor máximo de la correlación no se obtiene para un shift de -1 en las precipitaciones, como debería ser el caso\"\n",
    "print(\"¡El Ejercicio 3.6 luce bien!\")"
   ]
  },
  {
   "cell_type": "code",
   "execution_count": null,
   "metadata": {
    "cell_id": "00045-3b5e8341-cfd1-4a64-978e-71e3a9d71f87",
    "deepnote_cell_type": "code",
    "deepnote_to_be_reexecuted": false,
    "execution_millis": 4,
    "execution_start": 1637013069737,
    "source_hash": "6c3ac7a9",
    "tags": []
   },
   "outputs": [],
   "source": [
    "# Ejercicio 4.1\n",
    "assert \"prec_80s\" in globals(), \"Ej. 4.1 - No definió una variable llamada prec_80s\"\n",
    "assert len(prec_80s) == 53592  , \"Ej. 4.1 - Después de filtrar las fechas a partir de 1980, el número de elementos en el DataFrame prec_80s no es el esperado, revise sus cálculos\"\n",
    "assert len(prec_80s.columns) >= 11, \"Ej. 4.1 - El DataFrame prec_80s parece tener menos columnas que la base completa\"\n",
    "print(\"¡El Ejercicio 4.1 luce bien!\")"
   ]
  },
  {
   "cell_type": "code",
   "execution_count": null,
   "metadata": {
    "cell_id": "00046-3325ce71-d5d2-4c22-b6e8-d01b44c1fddf",
    "deepnote_cell_type": "code",
    "deepnote_to_be_reexecuted": false,
    "execution_millis": 19,
    "execution_start": 1637013898065,
    "source_hash": "7e05e85d",
    "tags": []
   },
   "outputs": [],
   "source": [
    "# Ejercicio 4.2\n",
    "assert \"estaciones_importantes\" in globals(), \"Ej. 4.2 - No definió una variable llamada estaciones_importantes\"\n",
    "assert type(estaciones_importantes) == type([]), \"Ej. 4.2 - La variable estaciones_importantes no está definida como una lista\"\n",
    "assert len(estaciones_importantes) == 63  , \"Ej. 4.2 - La cantidad de estaciones en estaciones_importantes es diferente a la que se espera, revise sus cálculos\"\n",
    "assert ('El Hatillo' in estaciones_importantes) & ('El Bosque' in estaciones_importantes) & ('El Pedregal' in estaciones_importantes), \"Ej. 4.2 - La lista estaciones_importantes no contiene los elementos que se espera que tenga, revise sus cálculos\"\n",
    "print(\"¡El Ejercicio 4.2 luce bien!\")"
   ]
  },
  {
   "cell_type": "code",
   "execution_count": null,
   "metadata": {
    "cell_id": "00051-aad5b6a8-5680-4724-ba27-4658881b43c2",
    "deepnote_cell_type": "code",
    "deepnote_to_be_reexecuted": false,
    "execution_millis": 316,
    "execution_start": 1637014364134,
    "source_hash": "8f95a9fb",
    "tags": []
   },
   "outputs": [],
   "source": [
    "# Ejercicio 4.3\n",
    "assert \"prec_filtradas\" in globals(), \"Ej. 4.3 - No definió una variable llamada prec_filtradas\"\n",
    "assert type(prec_filtradas) == type(prec_80s), \"Ej. 4.3 - La variable prec_filtradas no está definida como un DataFrame de Pandas\"\n",
    "assert len(prec_filtradas) == 29484  , \"Ej. 4.3 - La cantidad de líneas en prec_filtradas no es la esperada, revise sus cálculos\"\n",
    "print(\"¡El Ejercicio 4.3 luce bien!\")"
   ]
  },
  {
   "cell_type": "code",
   "execution_count": null,
   "metadata": {
    "cell_id": "00057-189de90c-d752-400f-8b0c-760cda96acdc",
    "deepnote_cell_type": "code",
    "deepnote_to_be_reexecuted": false,
    "execution_millis": 11,
    "execution_start": 1637015035426,
    "source_hash": "e1ccf6f8",
    "tags": []
   },
   "outputs": [],
   "source": [
    "# Ejercicio 4.4\n",
    "assert \"norm_diff\" in prec_filtradas.columns, \"Ej. 4.4 - No hay una columna llamada norm_diff en el DataFrame prec_filtradas\"\n",
    "assert np.abs(prec_filtradas['norm_diff'].max()-4.69) < 0.01, \"Ej. 4.4 hay un problema con los valores en la columna norm_diff del DataFrame prec_filtradas\"\n",
    "assert np.abs(prec_filtradas['norm_diff'].min()+4.27) < 0.01, \"Ej. 4.4 hay un problema con los valores en la columna norm_diff del DataFrame prec_filtradas\"\n",
    "assert len(prec_filtradas['norm_diff'])==29484, \"Ej. 4.4 - El DataFrame prec_filtradas ya no tiene las 29484 filas originales\"\n",
    "print(\"¡El Ejercicio 4.4 luce bien!\")"
   ]
  },
  {
   "cell_type": "code",
   "execution_count": null,
   "metadata": {
    "cell_id": "00061-19e06485-dd43-4689-b511-3af6fd33788a",
    "deepnote_cell_type": "code",
    "deepnote_to_be_reexecuted": false,
    "execution_millis": 2,
    "execution_start": 1637015609317,
    "source_hash": "1ac29e99",
    "tags": []
   },
   "outputs": [],
   "source": [
    "# Ejercicio 4.5\n",
    "assert \"prec_diff\" in globals(), \"Ej. 4.5 - No definió una variable llamada prec_diff\"\n",
    "assert type(prec_diff) == type(prec_80s), \"Ej. 4.5 - La variable prec_diff no está definida como un DataFrame de Pandas\"\n",
    "assert len(prec_diff) == 480  , \"Ej. 4.5 - La cantidad de líneas en prec_diff no es la esperada, revise sus cálculos\"\n",
    "assert ('periodo' in prec_diff.columns) , \"Ej. 4.5 - No hay una columna llamada periodo en prec_diff\"\n",
    "assert ('norm_diff' in prec_diff.columns) , \"Ej. 4.5 - No hay una columna llamada norm_diff en prec_diff\"\n",
    "assert np.abs(prec_diff['norm_diff'].max()-1.997)<0.001, \"Ej. 4.5 - Los valores en la columna norm_diff en prec_diff no coinciden con los esperados\"\n",
    "print(\"¡El Ejercicio 4.5 luce bien!\")"
   ]
  },
  {
   "cell_type": "code",
   "execution_count": null,
   "metadata": {
    "cell_id": "00053-7a7d0884-ec25-43e7-b488-f65341ec8433",
    "deepnote_cell_type": "code",
    "deepnote_to_be_reexecuted": false,
    "execution_millis": 4,
    "execution_start": 1637015921208,
    "source_hash": "cd76cf54",
    "tags": []
   },
   "outputs": [],
   "source": [
    "# Ejercicio 4.6\n",
    "assert \"norm_diff_prom\" in prec_diff.columns, \"Ej. 4.6 - No hay una columna llamada norm_diff_prom en el DataFrame prec_diff\"\n",
    "assert np.abs(prec_diff['norm_diff_prom'].max()-1.164) < 0.01, \"Ej. 4.6 hay un problema con los valores en la columna norm_diff_prom del DataFrame prec_diff\"\n",
    "assert np.abs(prec_diff['norm_diff_prom'].min()+2.12) < 0.01, \"Ej. 4.6 hay un problema con los valores en la columna norm_diff_prom del DataFrame prec_diff\"\n",
    "assert len(prec_diff['norm_diff_prom'])==480, \"Ej. 4.6 - El DataFrame prec_diff ya no tiene las 480 filas originales\"\n",
    "print(\"¡El Ejercicio 4.6 luce bien!\")"
   ]
  }
 ],
 "metadata": {
  "deepnote": {
   "is_reactive": false
  },
  "deepnote_execution_queue": [],
  "deepnote_notebook_id": "4ceef98c-1f02-413a-88cb-8b6e14d1d299",
  "kernelspec": {
   "display_name": "Python 3 (ipykernel)",
   "language": "python",
   "name": "python3"
  },
  "language_info": {
   "codemirror_mode": {
    "name": "ipython",
    "version": 3
   },
   "file_extension": ".py",
   "mimetype": "text/x-python",
   "name": "python",
   "nbconvert_exporter": "python",
   "pygments_lexer": "ipython3",
   "version": "3.9.7"
  }
 },
 "nbformat": 4,
 "nbformat_minor": 2
}
